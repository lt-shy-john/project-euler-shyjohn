{
 "cells": [
  {
   "cell_type": "code",
   "execution_count": 1,
   "metadata": {},
   "outputs": [],
   "source": [
    "import numpy as np"
   ]
  },
  {
   "cell_type": "code",
   "execution_count": 111,
   "metadata": {},
   "outputs": [],
   "source": [
    "# ======================================= ATTENTION ============================================\n",
    "# RUN THIS EACH TIME BEFORE DOING ANY CALCULATIONS, IT WILL REINITIATE THE VARIABLES FOR LOOPING\n",
    "# ==============================================================================================\n",
    "\n",
    "F0 = 0\n",
    "F1 = 1\n",
    "F = 0\n",
    "FNeg2 = 0 # F_{n-2}\n",
    "FNeg1 = 1 # F_{n-1}\n",
    "FElement = np.array([F0,F1,F])\n",
    "FSum = 0\n",
    "FNew = 0\n",
    "# print (FElement[2])\n",
    "\n",
    "def FibonacciNum(n1,n2):\n",
    "    FElement[0] = FElement[1]\n",
    "    # print ('F_(n-2) = ' + repr(FElement[0]))\n",
    "    FElement[1] = FElement[2]\n",
    "    # print ('F_(n-1) = ' + repr(FElement[1]))\n",
    "    FElement[2] = FElement[1] + FElement[0]\n",
    "    # print ('F = ' + repr(FElement[2]))\n",
    "    return FElement[2]\n",
    "\n",
    "def EvenFibonacciNum(F):\n",
    "    if F % 2 == 0:\n",
    "        return F\n",
    "    else: \n",
    "        return 0"
   ]
  },
  {
   "cell_type": "code",
   "execution_count": 109,
   "metadata": {},
   "outputs": [
    {
     "name": "stdout",
     "output_type": "stream",
     "text": [
      "EvenF = 0\n",
      "EvenF = 0\n",
      "EvenF = 2\n",
      "EvenF = 0\n",
      "EvenF = 0\n",
      "EvenF = 8\n",
      "EvenF = 0\n",
      "EvenF = 0\n",
      "EvenF = 34\n",
      "EvenF = 0\n"
     ]
    }
   ],
   "source": [
    "for n in range(0,10):\n",
    "    F0 = FElement[0]\n",
    "    F1 = FElement[1]\n",
    "    F = FibonacciNum(F0,F1)\n",
    "    EvenF  = EvenFibonacciNum(F)\n",
    "    print ('EvenF = ' + repr(EvenF))"
   ]
  },
  {
   "cell_type": "code",
   "execution_count": 112,
   "metadata": {},
   "outputs": [
    {
     "name": "stdout",
     "output_type": "stream",
     "text": [
      "EvenF = 0\n",
      "FSum = 0\n",
      "EvenF = 0\n",
      "FSum = 0\n",
      "EvenF = 2\n",
      "FSum = 2\n",
      "EvenF = 0\n",
      "FSum = 2\n",
      "EvenF = 0\n",
      "FSum = 2\n",
      "EvenF = 8\n",
      "FSum = 10\n",
      "EvenF = 0\n",
      "FSum = 10\n",
      "EvenF = 0\n",
      "FSum = 10\n",
      "EvenF = 34\n",
      "FSum = 44\n",
      "EvenF = 0\n",
      "FSum = 44\n",
      "EvenF = 0\n",
      "FSum = 44\n",
      "EvenF = 144\n",
      "FSum = 188\n",
      "EvenF = 0\n",
      "FSum = 188\n",
      "EvenF = 0\n",
      "FSum = 188\n",
      "EvenF = 610\n",
      "FSum = 798\n",
      "EvenF = 0\n",
      "FSum = 798\n",
      "EvenF = 0\n",
      "FSum = 798\n",
      "EvenF = 2584\n",
      "FSum = 3382\n",
      "EvenF = 0\n",
      "FSum = 3382\n",
      "EvenF = 0\n",
      "FSum = 3382\n",
      "EvenF = 10946\n",
      "FSum = 14328\n",
      "EvenF = 0\n",
      "FSum = 14328\n",
      "EvenF = 0\n",
      "FSum = 14328\n",
      "EvenF = 46368\n",
      "FSum = 60696\n",
      "EvenF = 0\n",
      "FSum = 60696\n",
      "EvenF = 0\n",
      "FSum = 60696\n",
      "EvenF = 196418\n",
      "FSum = 257114\n",
      "EvenF = 0\n",
      "FSum = 257114\n",
      "EvenF = 0\n",
      "FSum = 257114\n",
      "EvenF = 832040\n",
      "FSum = 1089154\n",
      "EvenF = 0\n",
      "FSum = 1089154\n",
      "EvenF = 0\n",
      "FSum = 1089154\n",
      "EvenF = 3524578\n",
      "FSum = 4613732\n"
     ]
    }
   ],
   "source": [
    "for n in range(0,35):\n",
    "    if FSum > 4000000:\n",
    "        break\n",
    "    F0 = FElement[0]\n",
    "    F1 = FElement[1]\n",
    "    F  = FibonacciNum(F0,F1)\n",
    "    EvenF  = EvenFibonacciNum(F)\n",
    "    print ('EvenF = ' + repr(EvenF))\n",
    "    FSum = FSum + EvenF\n",
    "    print ('FSum = ' + repr(FSum))"
   ]
  },
  {
   "cell_type": "code",
   "execution_count": null,
   "metadata": {},
   "outputs": [],
   "source": []
  }
 ],
 "metadata": {
  "kernelspec": {
   "display_name": "Python 3",
   "language": "python",
   "name": "python3"
  },
  "language_info": {
   "codemirror_mode": {
    "name": "ipython",
    "version": 3
   },
   "file_extension": ".py",
   "mimetype": "text/x-python",
   "name": "python",
   "nbconvert_exporter": "python",
   "pygments_lexer": "ipython3",
   "version": "3.6.5"
  }
 },
 "nbformat": 4,
 "nbformat_minor": 2
}
